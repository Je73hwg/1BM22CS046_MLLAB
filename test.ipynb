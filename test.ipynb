{
  "nbformat": 4,
  "nbformat_minor": 0,
  "metadata": {
    "colab": {
      "provenance": [],
      "authorship_tag": "ABX9TyPI31c4ZNYLsRUfOGjsHSig",
      "include_colab_link": true
    },
    "kernelspec": {
      "name": "python3",
      "display_name": "Python 3"
    },
    "language_info": {
      "name": "python"
    }
  },
  "cells": [
    {
      "cell_type": "markdown",
      "metadata": {
        "id": "view-in-github",
        "colab_type": "text"
      },
      "source": [
        "<a href=\"https://colab.research.google.com/github/Je73hwg/1BM22CS046_MLLAB/blob/main/test.ipynb\" target=\"_parent\"><img src=\"https://colab.research.google.com/assets/colab-badge.svg\" alt=\"Open In Colab\"/></a>"
      ]
    },
    {
      "cell_type": "markdown",
      "source": [
        "*ADA_BOOST*"
      ],
      "metadata": {
        "id": "0QP6uFmI_Ela"
      }
    },
    {
      "cell_type": "code",
      "source": [
        "import pandas as pd\n",
        "from sklearn.model_selection import train_test_split\n",
        "from sklearn.ensemble import AdaBoostClassifier\n",
        "from sklearn.tree import DecisionTreeClassifier\n",
        "from sklearn.metrics import accuracy_score, confusion_matrix\n",
        "from sklearn.metrics import precision_score, f1_score, roc_curve, auc\n",
        "data = pd.read_csv('heart.csv')\n",
        "X = data.iloc[:, :-1]\n",
        "y = data.iloc[:, -1]\n",
        "X_train, X_test, y_train, y_test = train_test_split(X, y, test_size=0.2, random_state=42)\n",
        "base_estimator = DecisionTreeClassifier(max_depth=1)\n",
        "model = AdaBoostClassifier(estimator=base_estimator, n_estimators=50, random_state=42)\n",
        "model.fit(X_train, y_train)\n",
        "y_pred = model.predict(X_test)\n",
        "accuracy = accuracy_score(y_test, y_pred)\n",
        "precision = precision_score(y_test, y_pred)\n",
        "f1 = f1_score(y_test, y_pred)\n",
        "print(f'Accuracy: {accuracy:.2f}')\n",
        "print()\n",
        "print(f'Precision: {precision:.2f}')\n",
        "print()\n",
        "print(f'F1-score: {f1:.2f}')\n",
        "conf_matrix = confusion_matrix(y_test, y_pred)\n",
        "print()\n",
        "print('Confusion Matrix:')\n",
        "print(conf_matrix)\n",
        "y_proba = model.predict_proba(X_test)[:, 1]\n",
        "fpr, tpr, thresholds = roc_curve(y_test, y_proba)\n",
        "roc_auc = auc(fpr, tpr)\n",
        "print()\n",
        "print(f'ROC AUC: {roc_auc:.2f}')"
      ],
      "metadata": {
        "colab": {
          "base_uri": "https://localhost:8080/"
        },
        "id": "FZXM8vJj3xkD",
        "outputId": "66cd678f-3007-4f71-b536-accff193446a"
      },
      "execution_count": 20,
      "outputs": [
        {
          "output_type": "stream",
          "name": "stdout",
          "text": [
            "Accuracy: 0.82\n",
            "\n",
            "Precision: 0.89\n",
            "\n",
            "F1-score: 0.81\n",
            "\n",
            "Confusion Matrix:\n",
            "[[26  3]\n",
            " [ 8 24]]\n",
            "\n",
            "ROC AUC: 0.91\n"
          ]
        }
      ]
    },
    {
      "cell_type": "markdown",
      "source": [
        "*SVM*"
      ],
      "metadata": {
        "id": "MEX6lJGJ_Ip5"
      }
    },
    {
      "cell_type": "code",
      "source": [
        "from sklearn.svm import SVC\n",
        "from sklearn.metrics import accuracy_score, confusion_matrix\n",
        "\n",
        "# Instantiate and train the SVM model\n",
        "svm_model = SVC()\n",
        "svm_model.fit(X_train, y_train)\n",
        "\n",
        "# Make predictions and calculate accuracy\n",
        "y_pred_svm = svm_model.predict(X_test)\n",
        "accuracy_svm = accuracy_score(y_test, y_pred_svm)\n",
        "print(f'SVM Accuracy: {accuracy_svm:.2f}')\n",
        "print()\n",
        "\n",
        "# Calculate and print the confusion matrix\n",
        "conf_matrix_svm = confusion_matrix(y_test, y_pred_svm)\n",
        "print('SVM Confusion Matrix:')\n",
        "conf_matrix_svm"
      ],
      "metadata": {
        "colab": {
          "base_uri": "https://localhost:8080/"
        },
        "id": "vqpX-4Sg6aQZ",
        "outputId": "66c5ba69-83f8-4b10-9680-c0fa6090bdaa"
      },
      "execution_count": 22,
      "outputs": [
        {
          "output_type": "stream",
          "name": "stdout",
          "text": [
            "SVM Accuracy: 0.70\n",
            "\n",
            "SVM Confusion Matrix:\n"
          ]
        },
        {
          "output_type": "execute_result",
          "data": {
            "text/plain": [
              "array([[15, 14],\n",
              "       [ 4, 28]])"
            ]
          },
          "metadata": {},
          "execution_count": 22
        }
      ]
    },
    {
      "cell_type": "markdown",
      "source": [
        "*LOGISTC_REGG*"
      ],
      "metadata": {
        "id": "P4mSRObS_MEx"
      }
    },
    {
      "cell_type": "code",
      "source": [
        "from sklearn.linear_model import LogisticRegression\n",
        "\n",
        "# Instantiate the Logistic Regression model\n",
        "log_reg_model = LogisticRegression(solver='liblinear') # Using 'liblinear' solver\n",
        "\n",
        "# Train the Logistic Regression model\n",
        "log_reg_model.fit(X_train, y_train)\n",
        "\n",
        "# Make predictions with the Logistic Regression model\n",
        "y_pred_log_reg = log_reg_model.predict(X_test)\n",
        "\n",
        "# Calculate and print the accuracy for Logistic Regression\n",
        "accuracy_log_reg = accuracy_score(y_test, y_pred_log_reg)\n",
        "print(f'Logistic Regression Accuracy: {accuracy_log_reg:.2f}')\n",
        "print()\n",
        "\n",
        "# Calculate and print the confusion matrix for Logistic Regression\n",
        "conf_matrix_log_reg = confusion_matrix(y_test, y_pred_log_reg)\n",
        "print('Logistic Regression Confusion Matrix:')\n",
        "conf_matrix_log_reg"
      ],
      "metadata": {
        "colab": {
          "base_uri": "https://localhost:8080/"
        },
        "id": "7kejhSWI7wcq",
        "outputId": "eeda8873-662d-49c0-ae06-357d28c9d257"
      },
      "execution_count": 23,
      "outputs": [
        {
          "output_type": "stream",
          "name": "stdout",
          "text": [
            "Logistic Regression Accuracy: 0.87\n",
            "\n",
            "Logistic Regression Confusion Matrix:\n"
          ]
        },
        {
          "output_type": "execute_result",
          "data": {
            "text/plain": [
              "array([[25,  4],\n",
              "       [ 4, 28]])"
            ]
          },
          "metadata": {},
          "execution_count": 23
        }
      ]
    },
    {
      "cell_type": "markdown",
      "source": [
        "*RANDOM FOREST*"
      ],
      "metadata": {
        "id": "h-DCjh8Q_A-x"
      }
    },
    {
      "cell_type": "code",
      "source": [
        "from sklearn.ensemble import RandomForestClassifier\n",
        "\n",
        "# Instantiate the Random Forest model\n",
        "rf_model = RandomForestClassifier(n_estimators=100, random_state=42)\n",
        "\n",
        "# Train the Random Forest model\n",
        "rf_model.fit(X_train, y_train)\n",
        "\n",
        "# Make predictions with the Random Forest model\n",
        "y_pred_rf = rf_model.predict(X_test)\n",
        "\n",
        "# Calculate and print the accuracy for Random Forest\n",
        "accuracy_rf = accuracy_score(y_test, y_pred_rf)\n",
        "print(f'Random Forest Accuracy: {accuracy_rf:.2f}')\n",
        "print()\n",
        "\n",
        "# Calculate and print the confusion matrix for Random Forest\n",
        "conf_matrix_rf = confusion_matrix(y_test, y_pred_rf)\n",
        "print('Random Forest Confusion Matrix:')\n",
        "print(conf_matrix_rf)\n",
        "\n",
        "# Calculate and print precision and F1-score for Random Forest\n",
        "precision_rf = precision_score(y_test, y_pred_rf)\n",
        "f1_rf = f1_score(y_test, y_pred_rf)\n",
        "\n",
        "print(f'Random Forest Precision: {precision_rf:.2f}')\n",
        "print()\n",
        "print(f'Random Forest F1-score: {f1_rf:.2f}')\n",
        "\n",
        "# Calculate ROC AUC for Random Forest\n",
        "y_proba_rf = rf_model.predict_proba(X_test)[:, 1]\n",
        "fpr_rf, tpr_rf, thresholds_rf = roc_curve(y_test, y_proba_rf)\n",
        "roc_auc_rf = auc(fpr_rf, tpr_rf)\n",
        "print()\n",
        "print(f'Random Forest ROC AUC: {roc_auc_rf:.2f}')"
      ],
      "metadata": {
        "colab": {
          "base_uri": "https://localhost:8080/"
        },
        "id": "st267fI1-9kJ",
        "outputId": "88a1fbc9-f547-48a9-941e-249358d859fb"
      },
      "execution_count": 24,
      "outputs": [
        {
          "output_type": "stream",
          "name": "stdout",
          "text": [
            "Random Forest Accuracy: 0.84\n",
            "\n",
            "Random Forest Confusion Matrix:\n",
            "[[24  5]\n",
            " [ 5 27]]\n",
            "Random Forest Precision: 0.84\n",
            "\n",
            "Random Forest F1-score: 0.84\n",
            "\n",
            "Random Forest ROC AUC: 0.92\n"
          ]
        }
      ]
    },
    {
      "cell_type": "code",
      "source": [],
      "metadata": {
        "id": "xbBUjL71BQqh"
      },
      "execution_count": 17,
      "outputs": []
    },
    {
      "cell_type": "code",
      "source": [],
      "metadata": {
        "id": "Eblt-olPBU0h"
      },
      "execution_count": null,
      "outputs": []
    }
  ]
}