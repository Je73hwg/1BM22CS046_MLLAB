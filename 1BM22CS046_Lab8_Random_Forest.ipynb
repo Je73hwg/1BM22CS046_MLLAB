{
  "nbformat": 4,
  "nbformat_minor": 0,
  "metadata": {
    "colab": {
      "provenance": [],
      "authorship_tag": "ABX9TyP2viGaoWyBwF5cqW8dELai",
      "include_colab_link": true
    },
    "kernelspec": {
      "name": "python3",
      "display_name": "Python 3"
    },
    "language_info": {
      "name": "python"
    }
  },
  "cells": [
    {
      "cell_type": "markdown",
      "metadata": {
        "id": "view-in-github",
        "colab_type": "text"
      },
      "source": [
        "<a href=\"https://colab.research.google.com/github/Je73hwg/1BM22CS046_MLLAB/blob/main/1BM22CS046_Lab8_Random_Forest.ipynb\" target=\"_parent\"><img src=\"https://colab.research.google.com/assets/colab-badge.svg\" alt=\"Open In Colab\"/></a>"
      ]
    },
    {
      "cell_type": "code",
      "execution_count": 3,
      "metadata": {
        "colab": {
          "base_uri": "https://localhost:8080/"
        },
        "id": "_t-bC0XOm_BT",
        "outputId": "8215da65-05e5-4c6f-e9b9-b76724e5dae5"
      },
      "outputs": [
        {
          "output_type": "stream",
          "name": "stdout",
          "text": [
            "Accuracy Score: 0.8212290502793296\n",
            "Confusion Matrix:\n",
            "[[92 13]\n",
            " [19 55]]\n"
          ]
        }
      ],
      "source": [
        "import pandas as pd\n",
        "from sklearn.model_selection import train_test_split\n",
        "from sklearn.ensemble import RandomForestClassifier\n",
        "from sklearn.metrics import accuracy_score, confusion_matrix\n",
        "from sklearn.preprocessing import LabelEncoder\n",
        "\n",
        "# Load the dataset\n",
        "file_path = \"train.xlsx\"\n",
        "data = pd.read_excel(file_path)\n",
        "\n",
        "# Select features and target\n",
        "features = ['Pclass', 'Sex', 'Age', 'SibSp', 'Parch', 'Fare', 'Embarked']\n",
        "target = 'Survived'\n",
        "data = data[features + [target]].copy()  # avoid SettingWithCopyWarning\n",
        "\n",
        "# Handle missing values (future-safe syntax)\n",
        "data['Age'] = data['Age'].fillna(data['Age'].median())\n",
        "data['Embarked'] = data['Embarked'].fillna(data['Embarked'].mode()[0])\n",
        "\n",
        "# Encode categorical features\n",
        "label_encoders = {}\n",
        "for col in ['Sex', 'Embarked']:\n",
        "    le = LabelEncoder()\n",
        "    data[col] = le.fit_transform(data[col])\n",
        "    label_encoders[col] = le\n",
        "\n",
        "# Split the dataset\n",
        "X = data[features]\n",
        "y = data[target]\n",
        "X_train, X_test, y_train, y_test = train_test_split(X, y, test_size=0.2, random_state=42)\n",
        "\n",
        "# Train the Random Forest model\n",
        "model = RandomForestClassifier(random_state=42)\n",
        "model.fit(X_train, y_train)\n",
        "\n",
        "# Make predictions\n",
        "y_pred = model.predict(X_test)\n",
        "\n",
        "# Evaluate the model\n",
        "accuracy = accuracy_score(y_test, y_pred)\n",
        "conf_matrix = confusion_matrix(y_test, y_pred)\n",
        "\n",
        "# Output results\n",
        "print(\"Accuracy Score:\", accuracy)\n",
        "print(\"Confusion Matrix:\")\n",
        "print(conf_matrix)\n"
      ]
    },
    {
      "cell_type": "code",
      "source": [
        "import pandas as pd\n",
        "from sklearn.ensemble import RandomForestClassifier\n",
        "from sklearn.model_selection import train_test_split\n",
        "from sklearn.preprocessing import LabelEncoder\n",
        "from sklearn.metrics import accuracy_score\n",
        "\n",
        "# Load the dataset\n",
        "file_path = \"iris.xlsx\"  # Ensure this file is in your working directory\n",
        "iris_data = pd.read_excel(file_path)\n",
        "\n",
        "# Prepare features and target\n",
        "X = iris_data.drop('species', axis=1)\n",
        "y = iris_data['species']\n",
        "\n",
        "# Encode species labels\n",
        "le = LabelEncoder()\n",
        "y_encoded = le.fit_transform(y)\n",
        "\n",
        "# Split the data into training and testing sets\n",
        "X_train, X_test, y_train, y_test = train_test_split(X, y_encoded, test_size=0.2, random_state=42)\n",
        "\n",
        "# Train with default n_estimators=10\n",
        "rf_default = RandomForestClassifier(n_estimators=10, random_state=42)\n",
        "rf_default.fit(X_train, y_train)\n",
        "y_pred_default = rf_default.predict(X_test)\n",
        "default_accuracy = accuracy_score(y_test, y_pred_default)\n",
        "\n",
        "print(\"Accuracy with default n_estimators=10:\", default_accuracy)\n",
        "\n",
        "# Fine-tune by trying multiple values of n_estimators\n",
        "best_score = 0\n",
        "best_n = 10\n",
        "for n in range(10, 110, 10):\n",
        "    rf = RandomForestClassifier(n_estimators=n, random_state=42)\n",
        "    rf.fit(X_train, y_train)\n",
        "    y_pred = rf.predict(X_test)\n",
        "    acc = accuracy_score(y_test, y_pred)\n",
        "    print(f\"Accuracy with n_estimators={n}: {acc}\")\n",
        "    if acc > best_score:\n",
        "        best_score = acc\n",
        "        best_n = n\n",
        "\n",
        "print(f\"\\nBest n_estimators: {best_n} with accuracy: {best_score}\")\n"
      ],
      "metadata": {
        "colab": {
          "base_uri": "https://localhost:8080/"
        },
        "id": "mdUljcKqn7Tk",
        "outputId": "ef9baf25-c009-4447-d2c8-06c6b277d302"
      },
      "execution_count": 6,
      "outputs": [
        {
          "output_type": "stream",
          "name": "stdout",
          "text": [
            "Accuracy with default n_estimators=10: 1.0\n",
            "Accuracy with n_estimators=10: 1.0\n",
            "Accuracy with n_estimators=20: 1.0\n",
            "Accuracy with n_estimators=30: 1.0\n",
            "Accuracy with n_estimators=40: 1.0\n",
            "Accuracy with n_estimators=50: 1.0\n",
            "Accuracy with n_estimators=60: 1.0\n",
            "Accuracy with n_estimators=70: 1.0\n",
            "Accuracy with n_estimators=80: 1.0\n",
            "Accuracy with n_estimators=90: 1.0\n",
            "Accuracy with n_estimators=100: 1.0\n",
            "\n",
            "Best n_estimators: 10 with accuracy: 1.0\n"
          ]
        }
      ]
    },
    {
      "cell_type": "code",
      "source": [
        "import matplotlib.pyplot as plt\n",
        "\n",
        "# AUC scores for different n_estimators\n",
        "n_estimators = [10, 20, 30]\n",
        "auc_scores = [0.9933, 0.9958, 1.0]\n",
        "\n",
        "# Plotting\n",
        "plt.figure(figsize=(8, 5))\n",
        "plt.plot(n_estimators, auc_scores, marker='o', linestyle='-', color='blue')\n",
        "plt.title(\"AUC Score vs. n_estimators\")\n",
        "plt.xlabel(\"n_estimators\")\n",
        "plt.ylabel(\"AUC Score\")\n",
        "plt.ylim(0.98, 1.01)  # Slightly above and below 1 for better visualization\n",
        "plt.grid(True)\n",
        "plt.xticks(n_estimators)\n",
        "plt.show()\n"
      ],
      "metadata": {
        "colab": {
          "base_uri": "https://localhost:8080/",
          "height": 487
        },
        "id": "XpDP0RHgo0V0",
        "outputId": "d9c3eced-de4c-490e-dc5a-1219af43a806"
      },
      "execution_count": 7,
      "outputs": [
        {
          "output_type": "display_data",
          "data": {
            "text/plain": [
              "<Figure size 800x500 with 1 Axes>"
            ],
            "image/png": "[encoded data removed]"
          },
          "metadata": {}
        }
      ]
    },
    {
      "cell_type": "code",
      "source": [],
      "metadata": {
        "id": "3TcAd_yEpvIQ"
      },
      "execution_count": null,
      "outputs": []
    }
  ]
}