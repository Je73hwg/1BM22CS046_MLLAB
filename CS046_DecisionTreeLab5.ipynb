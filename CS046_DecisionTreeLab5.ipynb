{
  "nbformat": 4,
  "nbformat_minor": 0,
  "metadata": {
    "colab": {
      "provenance": [],
      "authorship_tag": "ABX9TyMSQoodKhT5RfMd6iaYZ5ZA",
      "include_colab_link": true
    },
    "kernelspec": {
      "name": "python3",
      "display_name": "Python 3"
    },
    "language_info": {
      "name": "python"
    }
  },
  "cells": [
    {
      "cell_type": "markdown",
      "metadata": {
        "id": "view-in-github",
        "colab_type": "text"
      },
      "source": [
        "<a href=\"https://colab.research.google.com/github/Je73hwg/1BM22CS046_MLLAB/blob/main/CS046_DecisionTreeLab5.ipynb\" target=\"_parent\"><img src=\"https://colab.research.google.com/assets/colab-badge.svg\" alt=\"Open In Colab\"/></a>"
      ]
    },
    {
      "cell_type": "markdown",
      "source": [
        "*DECISION TREE*"
      ],
      "metadata": {
        "id": "1YKWM83XfoEQ"
      }
    },
    {
      "cell_type": "code",
      "execution_count": null,
      "metadata": {
        "colab": {
          "base_uri": "https://localhost:8080/"
        },
        "id": "OqWcpNlje52W",
        "outputId": "e07eebdf-59f5-4532-9b72-a1ae6beb2504"
      },
      "outputs": [
        {
          "output_type": "stream",
          "name": "stdout",
          "text": [
            "Accuracy Score: 1.0\n",
            "Confusion Matrix:\n",
            "[[10  0  0]\n",
            " [ 0  9  0]\n",
            " [ 0  0 11]]\n"
          ]
        }
      ],
      "source": [
        "import pandas as pd\n",
        "from sklearn.model_selection import train_test_split\n",
        "from sklearn.tree import DecisionTreeClassifier\n",
        "from sklearn.metrics import accuracy_score, confusion_matrix\n",
        "\n",
        "# Load dataset\n",
        "data = pd.read_csv(\"/iris (2).csv\")\n",
        "\n",
        "# Split features and target\n",
        "X, y = data.iloc[:, :-1], data.iloc[:, -1]\n",
        "\n",
        "# Split data into training (80%) and testing (20%)\n",
        "X_train, X_test, y_train, y_test = train_test_split(X, y, test_size=0.2, random_state=42)\n",
        "\n",
        "# Train DecisionTree classifier and make predictions\n",
        "model = DecisionTreeClassifier().fit(X_train, y_train)\n",
        "y_pred = model.predict(X_test)\n",
        "\n",
        "# Evaluate and display results\n",
        "print(f\"Accuracy Score: {accuracy_score(y_test, y_pred)}\")\n",
        "print(f\"Confusion Matrix:\\n{confusion_matrix(y_test, y_pred)}\")"
      ]
    },
    {
      "cell_type": "code",
      "source": [
        "import pandas as pd\n",
        "import numpy as np\n",
        "from sklearn.model_selection import train_test_split\n",
        "from sklearn.tree import DecisionTreeClassifier\n",
        "from sklearn.metrics import accuracy_score, confusion_matrix\n",
        "from sklearn.preprocessing import LabelEncoder\n",
        "\n",
        "# Load dataset\n",
        "file_path = \"/drug.csv\"\n",
        "data = pd.read_csv(file_path)\n",
        "\n",
        "# Inspect dataset\n",
        "print(\"Dataset Head:\\n\", data.head())\n",
        "\n",
        "# Convert categorical features to numerical if necessary\n",
        "label_encoders = {}\n",
        "for column in data.select_dtypes(include=['object']).columns:\n",
        "    le = LabelEncoder()\n",
        "    data[column] = le.fit_transform(data[column])\n",
        "    label_encoders[column] = le\n",
        "\n",
        "# Split features and target\n",
        "X = data.iloc[:, :-1]  # All columns except last one\n",
        "y = data.iloc[:, -1]   # Last column as target\n",
        "\n",
        "# Split data into training (80%) and testing (20%)\n",
        "X_train, X_test, y_train, y_test = train_test_split(X, y, test_size=0.2, random_state=42)\n",
        "\n",
        "# Initialize and train DecisionTree classifier\n",
        "model = DecisionTreeClassifier()\n",
        "model.fit(X_train, y_train)\n",
        "\n",
        "# Make predictions\n",
        "y_pred = model.predict(X_test)\n",
        "\n",
        "# Evaluate model\n",
        "accuracy = accuracy_score(y_test, y_pred)\n",
        "conf_matrix = confusion_matrix(y_test, y_pred)\n",
        "\n",
        "# Display results\n",
        "print()\n",
        "print(\"Accuracy Score:\", accuracy)\n",
        "print()\n",
        "print(\"Confusion Matrix:\\n\", conf_matrix)\n"
      ],
      "metadata": {
        "colab": {
          "base_uri": "https://localhost:8080/"
        },
        "id": "EFf-hFnPfyT6",
        "outputId": "728726f5-d575-4362-dd93-e97c9232d8ad"
      },
      "execution_count": null,
      "outputs": [
        {
          "output_type": "stream",
          "name": "stdout",
          "text": [
            "Dataset Head:\n",
            "    Age Sex      BP Cholesterol  Na_to_K   Drug\n",
            "0   23   F    HIGH        HIGH   25.355  drugY\n",
            "1   47   M     LOW        HIGH   13.093  drugC\n",
            "2   47   M     LOW        HIGH   10.114  drugC\n",
            "3   28   F  NORMAL        HIGH    7.798  drugX\n",
            "4   61   F     LOW        HIGH   18.043  drugY\n",
            "\n",
            "Accuracy Score: 1.0\n",
            "\n",
            "Confusion Matrix:\n",
            " [[ 6  0  0  0  0]\n",
            " [ 0  3  0  0  0]\n",
            " [ 0  0  5  0  0]\n",
            " [ 0  0  0 11  0]\n",
            " [ 0  0  0  0 15]]\n"
          ]
        }
      ]
    },
    {
      "cell_type": "code",
      "source": [
        "import pandas as pd\n",
        "import numpy as np\n",
        "from sklearn.model_selection import train_test_split\n",
        "from sklearn.tree import DecisionTreeRegressor\n",
        "from sklearn.metrics import mean_absolute_error, mean_squared_error\n",
        "\n",
        "# Load dataset\n",
        "file_path = \"/petrol_consumption.csv\"\n",
        "data = pd.read_csv(file_path)\n",
        "\n",
        "# Inspect dataset\n",
        "print(\"Dataset Head:\\n\", data.head())\n",
        "\n",
        "# Split features and target\n",
        "X = data.iloc[:, :-1]  # All columns except last one\n",
        "y = data.iloc[:, -1]   # Last column as target\n",
        "\n",
        "# Split data into training (80%) and testing (20%)\n",
        "X_train, X_test, y_train, y_test = train_test_split(X, y, test_size=0.2, random_state=42)\n",
        "\n",
        "# Initialize and train Regression Tree model\n",
        "model = DecisionTreeRegressor()\n",
        "model.fit(X_train, y_train)\n",
        "\n",
        "# Make predictions\n",
        "y_pred = model.predict(X_test)\n",
        "\n",
        "# Evaluate model\n",
        "mae = mean_absolute_error(y_test, y_pred)\n",
        "mse = mean_squared_error(y_test, y_pred)\n",
        "rmse = np.sqrt(mse)\n",
        "\n",
        "# Display results\n",
        "print()\n",
        "print(\"Mean Absolute Error:\", mae)\n",
        "print()\n",
        "print(\"Mean Squared Error:\", mse)\n",
        "print()\n",
        "print(\"Root Mean Squared Error:\", rmse)\n"
      ],
      "metadata": {
        "colab": {
          "base_uri": "https://localhost:8080/"
        },
        "id": "wLvNHScXgg9p",
        "outputId": "dab96d9f-5b5c-4878-9c42-f7ced1bb7ed5"
      },
      "execution_count": null,
      "outputs": [
        {
          "output_type": "stream",
          "name": "stdout",
          "text": [
            "Dataset Head:\n",
            "    Petrol_tax  Average_income  Paved_Highways  Population_Driver_licence(%)  \\\n",
            "0         9.0            3571            1976                         0.525   \n",
            "1         9.0            4092            1250                         0.572   \n",
            "2         9.0            3865            1586                         0.580   \n",
            "3         7.5            4870            2351                         0.529   \n",
            "4         8.0            4399             431                         0.544   \n",
            "\n",
            "   Petrol_Consumption  \n",
            "0                 541  \n",
            "1                 524  \n",
            "2                 561  \n",
            "3                 414  \n",
            "4                 410  \n",
            "\n",
            "Mean Absolute Error: 93.8\n",
            "\n",
            "Mean Squared Error: 17484.4\n",
            "\n",
            "Root Mean Squared Error: 132.22858994937516\n"
          ]
        }
      ]
    },
    {
      "cell_type": "code",
      "source": [],
      "metadata": {
        "id": "0mfp63ybhY7J"
      },
      "execution_count": null,
      "outputs": []
    }
  ]
}